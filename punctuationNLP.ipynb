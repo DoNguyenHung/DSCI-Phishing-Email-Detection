{
 "cells": [
  {
   "cell_type": "code",
   "execution_count": 1,
   "metadata": {},
   "outputs": [],
   "source": [
    "''' This Jupyter Notebook creates a Multinomial Naive Bayes Model for Emailing Phishing Detection.'''\n",
    "\n",
    "import pandas # reading in the dataset\n",
    "import numpy as np # matrix creation\n",
    "import string # obtaining accepted punctuation types\n",
    "\n",
    "from sklearn import metrics # metrics displaying\n",
    "from sklearn.naive_bayes import MultinomialNB # chosen model\n",
    "from sklearn.model_selection import train_test_split # spliting dataset"
   ]
  },
  {
   "cell_type": "code",
   "execution_count": 2,
   "metadata": {},
   "outputs": [],
   "source": [
    "# read in CSV dataset into a dataframe and create training and testing datasets for our model\n",
    "dataframe = pandas.read_csv(\"Phishing_Email.csv\")\n",
    "\n",
    "# trainemails = training dataset\n",
    "# testemails = testing dataset\n",
    "trainemails, testemails = train_test_split(dataframe, test_size=0.2)"
   ]
  },
  {
   "cell_type": "code",
   "execution_count": 3,
   "metadata": {},
   "outputs": [
    {
     "data": {
      "text/html": [
       "<div>\n",
       "<style scoped>\n",
       "    .dataframe tbody tr th:only-of-type {\n",
       "        vertical-align: middle;\n",
       "    }\n",
       "\n",
       "    .dataframe tbody tr th {\n",
       "        vertical-align: top;\n",
       "    }\n",
       "\n",
       "    .dataframe thead th {\n",
       "        text-align: right;\n",
       "    }\n",
       "</style>\n",
       "<table border=\"1\" class=\"dataframe\">\n",
       "  <thead>\n",
       "    <tr style=\"text-align: right;\">\n",
       "      <th></th>\n",
       "      <th>Unnamed: 0</th>\n",
       "      <th>Email Text</th>\n",
       "      <th>Email Type</th>\n",
       "    </tr>\n",
       "  </thead>\n",
       "  <tbody>\n",
       "    <tr>\n",
       "      <th>0</th>\n",
       "      <td>0</td>\n",
       "      <td>re : 6 . 1100 , disc : uniformitarianism , re ...</td>\n",
       "      <td>Safe Email</td>\n",
       "    </tr>\n",
       "    <tr>\n",
       "      <th>1</th>\n",
       "      <td>1</td>\n",
       "      <td>the other side of * galicismos * * galicismo *...</td>\n",
       "      <td>Safe Email</td>\n",
       "    </tr>\n",
       "    <tr>\n",
       "      <th>2</th>\n",
       "      <td>2</td>\n",
       "      <td>re : equistar deal tickets are you still avail...</td>\n",
       "      <td>Safe Email</td>\n",
       "    </tr>\n",
       "    <tr>\n",
       "      <th>3</th>\n",
       "      <td>3</td>\n",
       "      <td>\\r\\nHello I am your hot lil horny toy.\\r\\n    ...</td>\n",
       "      <td>Phishing Email</td>\n",
       "    </tr>\n",
       "    <tr>\n",
       "      <th>4</th>\n",
       "      <td>4</td>\n",
       "      <td>software at incredibly low prices ( 86 % lower...</td>\n",
       "      <td>Phishing Email</td>\n",
       "    </tr>\n",
       "  </tbody>\n",
       "</table>\n",
       "</div>"
      ],
      "text/plain": [
       "   Unnamed: 0                                         Email Text  \\\n",
       "0           0  re : 6 . 1100 , disc : uniformitarianism , re ...   \n",
       "1           1  the other side of * galicismos * * galicismo *...   \n",
       "2           2  re : equistar deal tickets are you still avail...   \n",
       "3           3  \\r\\nHello I am your hot lil horny toy.\\r\\n    ...   \n",
       "4           4  software at incredibly low prices ( 86 % lower...   \n",
       "\n",
       "       Email Type  \n",
       "0      Safe Email  \n",
       "1      Safe Email  \n",
       "2      Safe Email  \n",
       "3  Phishing Email  \n",
       "4  Phishing Email  "
      ]
     },
     "execution_count": 3,
     "metadata": {},
     "output_type": "execute_result"
    }
   ],
   "source": [
    "dataframe.head()"
   ]
  },
  {
   "cell_type": "code",
   "execution_count": 4,
   "metadata": {},
   "outputs": [],
   "source": [
    "# separate email text from their labels\n",
    "trainemailstext = trainemails['Email Text'].values.tolist()   # '0' refers to the review text\n",
    "trainemailstype = trainemails['Email Type'].values.tolist()   # '1' corresponds to Label (1 - positive and 0 - negative)\n",
    "\n",
    "testemailstext = testemails['Email Text'].values.tolist()\n",
    "testemailstype = testemails['Email Type'].values.tolist()"
   ]
  },
  {
   "cell_type": "code",
   "execution_count": 5,
   "metadata": {},
   "outputs": [
    {
     "name": "stdout",
     "output_type": "stream",
     "text": [
      "!\"#$%&'()*+,-./:;<=>?@[\\]^_`{|}~\n",
      "32\n"
     ]
    }
   ],
   "source": [
    "# there are 32 acceptable punctuation types\n",
    "print(string.punctuation)\n",
    "print(len(string.punctuation))"
   ]
  },
  {
   "cell_type": "code",
   "execution_count": 16,
   "metadata": {},
   "outputs": [
    {
     "name": "stdout",
     "output_type": "stream",
     "text": [
      "- - - - - - ? . . . . . . . . . . . . . . $ . . . . . . . . . . . . . . . . . . . . . . . $ . . . . $ . . . . . . . . . . . . . $ . . . - - - - - -\n"
     ]
    }
   ],
   "source": [
    "# filter training text to only include uses of punctuation\n",
    "traintext=[]\n",
    "for i in range(0, len(trainemailstext)):\n",
    "    punctuation = []\n",
    "    for char in str(trainemailstext[i]):\n",
    "        if char in string.punctuation:\n",
    "            punctuation.append(char)\n",
    "    review = ' '.join(punctuation)\n",
    "    traintext.append(review)\n",
    "\n",
    "# example view of new training text\n",
    "print(traintext[0])"
   ]
  },
  {
   "cell_type": "code",
   "execution_count": 7,
   "metadata": {},
   "outputs": [],
   "source": [
    "# filter testing text to only include uses of punctuation\n",
    "testtext=[]\n",
    "for i in range(0, len(testemailstext)):\n",
    "    punctuation = []\n",
    "    for char in str(testemailstext[i]):\n",
    "        if char in string.punctuation:\n",
    "            punctuation.append(char)\n",
    "    review = ' '.join(punctuation)\n",
    "    testtext.append(review)"
   ]
  },
  {
   "cell_type": "code",
   "execution_count": 8,
   "metadata": {},
   "outputs": [
    {
     "name": "stdout",
     "output_type": "stream",
     "text": [
      "[ 0  0  0  4  0  0  0  0  0  0  0  0 12 57  0  0  0  0  0  0  1  0  0  0\n",
      "  0  0  0  0  0  0  0  0]\n"
     ]
    }
   ],
   "source": [
    "# create feature matrix for each training email\n",
    "\n",
    "# each row is an email\n",
    "# each column corresponds to one type of punctuation\n",
    "train_feature_matrix = []\n",
    "for text in traintext:\n",
    "    counts = [0 for i in range(len(string.punctuation))]\n",
    "    for char in text:\n",
    "        for i in range(len(string.punctuation)):\n",
    "            if char == string.punctuation[i]:\n",
    "                counts[i] += 1\n",
    "    train_feature_matrix.append(counts)\n",
    "train_feature_matrix = np.array(train_feature_matrix)\n",
    "\n",
    "# test print of first training email punctuation counts\n",
    "print(train_feature_matrix[0])"
   ]
  },
  {
   "cell_type": "code",
   "execution_count": 9,
   "metadata": {},
   "outputs": [],
   "source": [
    "# create feature matrix for each training email\n",
    "\n",
    "test_feature_matrix = []\n",
    "for text in testtext:\n",
    "    counts = [0 for i in range(len(string.punctuation))]\n",
    "    for char in text:\n",
    "        for i in range(len(string.punctuation)):\n",
    "            if char == string.punctuation[i]:\n",
    "                counts[i] += 1\n",
    "    test_feature_matrix.append(counts)\n",
    "test_feature_matrix = np.array(test_feature_matrix)"
   ]
  },
  {
   "cell_type": "code",
   "execution_count": 10,
   "metadata": {},
   "outputs": [
    {
     "data": {
      "text/html": [
       "<style>#sk-container-id-1 {color: black;background-color: white;}#sk-container-id-1 pre{padding: 0;}#sk-container-id-1 div.sk-toggleable {background-color: white;}#sk-container-id-1 label.sk-toggleable__label {cursor: pointer;display: block;width: 100%;margin-bottom: 0;padding: 0.3em;box-sizing: border-box;text-align: center;}#sk-container-id-1 label.sk-toggleable__label-arrow:before {content: \"▸\";float: left;margin-right: 0.25em;color: #696969;}#sk-container-id-1 label.sk-toggleable__label-arrow:hover:before {color: black;}#sk-container-id-1 div.sk-estimator:hover label.sk-toggleable__label-arrow:before {color: black;}#sk-container-id-1 div.sk-toggleable__content {max-height: 0;max-width: 0;overflow: hidden;text-align: left;background-color: #f0f8ff;}#sk-container-id-1 div.sk-toggleable__content pre {margin: 0.2em;color: black;border-radius: 0.25em;background-color: #f0f8ff;}#sk-container-id-1 input.sk-toggleable__control:checked~div.sk-toggleable__content {max-height: 200px;max-width: 100%;overflow: auto;}#sk-container-id-1 input.sk-toggleable__control:checked~label.sk-toggleable__label-arrow:before {content: \"▾\";}#sk-container-id-1 div.sk-estimator input.sk-toggleable__control:checked~label.sk-toggleable__label {background-color: #d4ebff;}#sk-container-id-1 div.sk-label input.sk-toggleable__control:checked~label.sk-toggleable__label {background-color: #d4ebff;}#sk-container-id-1 input.sk-hidden--visually {border: 0;clip: rect(1px 1px 1px 1px);clip: rect(1px, 1px, 1px, 1px);height: 1px;margin: -1px;overflow: hidden;padding: 0;position: absolute;width: 1px;}#sk-container-id-1 div.sk-estimator {font-family: monospace;background-color: #f0f8ff;border: 1px dotted black;border-radius: 0.25em;box-sizing: border-box;margin-bottom: 0.5em;}#sk-container-id-1 div.sk-estimator:hover {background-color: #d4ebff;}#sk-container-id-1 div.sk-parallel-item::after {content: \"\";width: 100%;border-bottom: 1px solid gray;flex-grow: 1;}#sk-container-id-1 div.sk-label:hover label.sk-toggleable__label {background-color: #d4ebff;}#sk-container-id-1 div.sk-serial::before {content: \"\";position: absolute;border-left: 1px solid gray;box-sizing: border-box;top: 0;bottom: 0;left: 50%;z-index: 0;}#sk-container-id-1 div.sk-serial {display: flex;flex-direction: column;align-items: center;background-color: white;padding-right: 0.2em;padding-left: 0.2em;position: relative;}#sk-container-id-1 div.sk-item {position: relative;z-index: 1;}#sk-container-id-1 div.sk-parallel {display: flex;align-items: stretch;justify-content: center;background-color: white;position: relative;}#sk-container-id-1 div.sk-item::before, #sk-container-id-1 div.sk-parallel-item::before {content: \"\";position: absolute;border-left: 1px solid gray;box-sizing: border-box;top: 0;bottom: 0;left: 50%;z-index: -1;}#sk-container-id-1 div.sk-parallel-item {display: flex;flex-direction: column;z-index: 1;position: relative;background-color: white;}#sk-container-id-1 div.sk-parallel-item:first-child::after {align-self: flex-end;width: 50%;}#sk-container-id-1 div.sk-parallel-item:last-child::after {align-self: flex-start;width: 50%;}#sk-container-id-1 div.sk-parallel-item:only-child::after {width: 0;}#sk-container-id-1 div.sk-dashed-wrapped {border: 1px dashed gray;margin: 0 0.4em 0.5em 0.4em;box-sizing: border-box;padding-bottom: 0.4em;background-color: white;}#sk-container-id-1 div.sk-label label {font-family: monospace;font-weight: bold;display: inline-block;line-height: 1.2em;}#sk-container-id-1 div.sk-label-container {text-align: center;}#sk-container-id-1 div.sk-container {/* jupyter's `normalize.less` sets `[hidden] { display: none; }` but bootstrap.min.css set `[hidden] { display: none !important; }` so we also need the `!important` here to be able to override the default hidden behavior on the sphinx rendered scikit-learn.org. See: https://github.com/scikit-learn/scikit-learn/issues/21755 */display: inline-block !important;position: relative;}#sk-container-id-1 div.sk-text-repr-fallback {display: none;}</style><div id=\"sk-container-id-1\" class=\"sk-top-container\"><div class=\"sk-text-repr-fallback\"><pre>MultinomialNB()</pre><b>In a Jupyter environment, please rerun this cell to show the HTML representation or trust the notebook. <br />On GitHub, the HTML representation is unable to render, please try loading this page with nbviewer.org.</b></div><div class=\"sk-container\" hidden><div class=\"sk-item\"><div class=\"sk-estimator sk-toggleable\"><input class=\"sk-toggleable__control sk-hidden--visually\" id=\"sk-estimator-id-1\" type=\"checkbox\" checked><label for=\"sk-estimator-id-1\" class=\"sk-toggleable__label sk-toggleable__label-arrow\">MultinomialNB</label><div class=\"sk-toggleable__content\"><pre>MultinomialNB()</pre></div></div></div></div></div>"
      ],
      "text/plain": [
       "MultinomialNB()"
      ]
     },
     "execution_count": 10,
     "metadata": {},
     "output_type": "execute_result"
    }
   ],
   "source": [
    "# create Multinomial Naive Bayes model, train the model on our training matrix and labels\n",
    "\n",
    "naive_bayes_classifier = MultinomialNB()\n",
    "naive_bayes_classifier.fit(train_feature_matrix, trainemailstype)"
   ]
  },
  {
   "cell_type": "code",
   "execution_count": 11,
   "metadata": {},
   "outputs": [
    {
     "name": "stdout",
     "output_type": "stream",
     "text": [
      "['Phishing Email' 'Safe Email' 'Safe Email' ... 'Safe Email'\n",
      " 'Phishing Email' 'Safe Email']\n"
     ]
    }
   ],
   "source": [
    "# test predictions of the model\n",
    "y_pred = naive_bayes_classifier.predict(test_feature_matrix)\n",
    "print(y_pred)"
   ]
  },
  {
   "cell_type": "code",
   "execution_count": 12,
   "metadata": {},
   "outputs": [
    {
     "name": "stdout",
     "output_type": "stream",
     "text": [
      "              precision    recall  f1-score   support\n",
      "\n",
      "    Positive       0.74      0.62      0.68      1453\n",
      "    Negative       0.78      0.86      0.82      2277\n",
      "\n",
      "    accuracy                           0.77      3730\n",
      "   macro avg       0.76      0.74      0.75      3730\n",
      "weighted avg       0.77      0.77      0.76      3730\n",
      "\n",
      "Confusion matrix:\n",
      "[[ 901  552]\n",
      " [ 312 1965]]\n"
     ]
    }
   ],
   "source": [
    "# print metrics report and confusion matrix\n",
    "\n",
    "'''\n",
    "Confusion Matrix Legend:\n",
    "|TruePositive FalseNegative|\n",
    "|FalsePositive TrueNegative|\n",
    "\n",
    "'''\n",
    "\n",
    "print(metrics.classification_report(testemailstype, y_pred, target_names=['Positive', 'Negative']))\n",
    "print(\"Confusion Matrix:\")\n",
    "print(metrics.confusion_matrix(testemailstype, y_pred))"
   ]
  },
  {
   "cell_type": "code",
   "execution_count": 13,
   "metadata": {},
   "outputs": [
    {
     "name": "stdout",
     "output_type": "stream",
     "text": [
      "[901, 1965, 552, 312]\n",
      "24.15549597855228\n",
      "52.68096514745309\n",
      "14.798927613941018\n",
      "8.36461126005362\n"
     ]
    }
   ],
   "source": [
    "\n",
    "results = [0,0,0,0]\n",
    "for i in range(len(testemailstype)):\n",
    "    if testemailstype[i] == y_pred[i] and testemailstype[i] == 'Phishing Email':\n",
    "        results[0] += 1 #true positive\n",
    "    elif testemailstype[i] == y_pred[i] and testemailstype[i] == 'Safe Email':\n",
    "        results[1] += 1 #true negative\n",
    "    elif testemailstype[i] != y_pred[i] and testemailstype[i] == 'Phishing Email':\n",
    "        results[2] += 1 #false negative\n",
    "    else:\n",
    "        results[3] += 1 #false positive\n",
    "print(results)\n",
    "\n",
    "# print test results as percentages\n",
    "for total in results:\n",
    "    print(total/len(testemailstype) * 100)"
   ]
  },
  {
   "cell_type": "markdown",
   "metadata": {},
   "source": [
    "## Of 3730 test values:\n",
    "24.15549597855228% True Positive\\\n",
    "52.68096514745309% True Negative\\\n",
    "14.798927613941018% False Negative\\\n",
    "8.36461126005362% False Positive\\\n",
    "\\\n",
    "76.83646113% Correct Detection"
   ]
  },
  {
   "cell_type": "code",
   "execution_count": 14,
   "metadata": {},
   "outputs": [
    {
     "name": "stdout",
     "output_type": "stream",
     "text": [
      "2\n"
     ]
    }
   ],
   "source": [
    "# one-off feature creation\n",
    "\n",
    "oneOff = ['hi michael, please find enclosed vendor banking instructions for a payment that was suppose to go out in the previous week. i need you to process it immediately. i am a bit busy now but will give you a call within the hour regarding the payment. regards, sent from my mobile',\n",
    "        'dear michael, phishing attacks are a growing threat to online security, but there are steps you can take to protect yourself. here are some best practices to help you stay safe online: keep your software up to date: make sure that your operating system, antivirus software, and other applications are always up to date to reduce your vulnerability to malware. use strong passwords: use strong, unique passwords for each of your online accounts and consider using a password manager to keep them secure. think before you click: always be wary of emails, links and attachments from unknown or suspicious sources. if in doubt, do not click. be cautious of public wi-fi: public wi-fi networks are often secured, so avoid accessing sensitve information when using them. remember, the best defense against phishing attacks is awareness and education. stay vigilant and stay safe online. best regards, hung']\n",
    "\n",
    "oneOff_feature_matrix = []\n",
    "for text in oneOff:\n",
    "    counts = [0 for i in range(len(string.punctuation))]\n",
    "    for char in text:\n",
    "        for i in range(len(string.punctuation)):\n",
    "            if char == string.punctuation[i]:\n",
    "                counts[i] += 1\n",
    "    oneOff_feature_matrix.append(counts)\n",
    "oneOff_feature_matrix = np.array(oneOff_feature_matrix)\n",
    "\n",
    "print(len(oneOff_feature_matrix))"
   ]
  },
  {
   "cell_type": "code",
   "execution_count": 15,
   "metadata": {},
   "outputs": [
    {
     "name": "stdout",
     "output_type": "stream",
     "text": [
      "['Safe Email' 'Safe Email']\n"
     ]
    }
   ],
   "source": [
    "# one-off testing and results\n",
    "\n",
    "oneOff_Y = naive_bayes_classifier.predict(oneOff_feature_matrix)\n",
    "\n",
    "print(oneOff_Y)"
   ]
  }
 ],
 "metadata": {
  "kernelspec": {
   "display_name": "Python 3",
   "language": "python",
   "name": "python3"
  },
  "language_info": {
   "codemirror_mode": {
    "name": "ipython",
    "version": 3
   },
   "file_extension": ".py",
   "mimetype": "text/x-python",
   "name": "python",
   "nbconvert_exporter": "python",
   "pygments_lexer": "ipython3",
   "version": "3.10.11"
  },
  "orig_nbformat": 4
 },
 "nbformat": 4,
 "nbformat_minor": 2
}
